{
    "metadata": {
        "kernelspec": {
            "name": "python3",
            "display_name": "Python 3 (ipykernel)",
            "language": "python"
        }
    },
    "nbformat": 4,
    "nbformat_minor": 2,
    "cells": [
        {
            "attachments": {},
            "cell_type": "markdown",
            "metadata": {},
            "source": [
                "Importing modules"
            ]
        },
        {
            "cell_type": "code",
            "execution_count": 872,
            "metadata": {},
            "outputs": [],
            "source": [
                "import sklearn\n",
                "from sklearn.utils import shuffle\n",
                "from sklearn.neighbors import KNeighborsClassifier\n",
                "import pandas as pd\n",
                "import numpy as np\n",
                "from sklearn import linear_model, preprocessing\n",
                "import matplotlib.pyplot as plt"
            ]
        },
        {
            "attachments": {},
            "cell_type": "markdown",
            "metadata": {},
            "source": [
                "Reading the data which is in csv format and is separated by commas, and then showing a short snippet.\n",
                "\n",
                "The dataset is from this website: https://www.kaggle.com/datasets/aungpyaeap/fish-market\n",
                "I will be using K-NN to classify fish based on information about its size into species.\n",
                "\n",
                "To clarify what the headings actually mean:\n",
                "\n",
                "\n",
                "\n",
                "* Species: Name of fish species\n",
                "* Weight: Weight of fish (g)\n",
                "* Length1: Vertical length (cm)\n",
                "* Length2: Diagonal length (cm)\n",
                "* Length3: Horizontal length (cm)\n",
                "* Height: Fish height (cm)\n",
                "* Width: Diagonal width (cm)\n",
                ""
            ]
        },
        {
            "cell_type": "code",
            "execution_count": 873,
            "metadata": {},
            "outputs": [
                {
                    "name": "stdout",
                    "output_type": "stream",
                    "text": "  Species  Weight  Length1  Length2  Length3   Height   Width\n0   Bream   242.0     23.2     25.4     30.0  11.5200  4.0200\n1   Bream   290.0     24.0     26.3     31.2  12.4800  4.3056\n2   Bream   340.0     23.9     26.5     31.1  12.3778  4.6961\n3   Bream   363.0     26.3     29.0     33.5  12.7300  4.4555\n4   Bream   430.0     26.5     29.0     34.0  12.4440  5.1340\n"
                }
            ],
            "source": [
                "data = pd.read_csv(\"Fish.csv\", sep=\",\")\n",
                "print(data.head())"
            ]
        },
        {
            "attachments": {},
            "cell_type": "markdown",
            "metadata": {},
            "source": [
                "Using built in preprocessing to change the strings in Species to integers so the algorithm can read it"
            ]
        },
        {
            "cell_type": "code",
            "execution_count": 874,
            "metadata": {},
            "outputs": [],
            "source": [
                "le = preprocessing.LabelEncoder()\n",
                "Species = le.fit_transform(list(data[\"Species\"]))"
            ]
        },
        {
            "attachments": {},
            "cell_type": "markdown",
            "metadata": {},
            "source": [
                "Setting the axis"
            ]
        },
        {
            "cell_type": "code",
            "execution_count": 875,
            "metadata": {},
            "outputs": [],
            "source": [
                "X = data[[\"Weight\", \"Length1\", \"Length2\", \"Length3\", \"Height\", \"Width\"]]\n",
                "y = Species"
            ]
        },
        {
            "attachments": {},
            "cell_type": "markdown",
            "metadata": {},
            "source": [
                "Splitting the data into training and testing, then printing the accuracy. I have set the K value to 9 as after testing it for different values it seems to be most accurate.\n",
                "\n",
                "One issue I noticed is that the accuracy was always a clean looking number with limited decimal places. The reason for this is because there is not enough data in the fish dataset, so if the data was ~10x more in size then the models would be more accurate.\n",
                "\n",
                "This issue is reciprocated after I decided to write code to return the accuracy of predicting each species."
            ]
        },
        {
            "cell_type": "code",
            "execution_count": 876,
            "metadata": {},
            "outputs": [
                {
                    "name": "stdout",
                    "output_type": "stream",
                    "text": "0.4375\n"
                }
            ],
            "source": [
                "x_train, x_test, y_train, y_test = sklearn.model_selection.train_test_split(X, y, test_size = 0.1)\n",
                "\n",
                "model = KNeighborsClassifier(n_neighbors=9)\n",
                "\n",
                "model.fit(x_train, y_train)\n",
                "acc = model.score(x_test, y_test)\n",
                "print(acc)"
            ]
        },
        {
            "attachments": {},
            "cell_type": "markdown",
            "metadata": {},
            "source": [
                "For each unique species in the dataset, I calculated its accuracy however due to the small dataset I had an issue where when I split the data, the testing set had nothing about certain species, which meant that the model had nothing to predict with.\n",
                "\n",
                "As well as this, the percentages are \"clean\" numbers which shows that the dataset size is too small to do accurate classification, which the exception of Bream which appeared way more times in the dataset. In the case of Bream, the classification was quite successful."
            ]
        },
        {
            "cell_type": "code",
            "execution_count": 877,
            "metadata": {},
            "outputs": [
                {
                    "name": "stdout",
                    "output_type": "stream",
                    "text": "Accuracy for Bream: 100.00%\nAccuracy for Roach: 50.00%\nAccuracy for Whitefish: 0.00%\nAccuracy for Parkki: 0.00%\nAccuracy for Perch: 33.33%\nAccuracy for Pike: 0.00%\nAccuracy for Smelt: 100.00%\n"
                }
            ],
            "source": [
                "unique_species = data[\"Species\"].unique()\n",
                "\n",
                "species_accuracies = {species: 0 for species in unique_species}\n",
                "\n",
                "y_pred = model.predict(x_test)\n",
                "\n",
                "for species in unique_species:\n",
                "    encoded_species = le.transform([species])[0]\n",
                "    species_indices = [i for i, label in enumerate(y_test) if label == encoded_species]\n",
                "    \n",
                "    if len(species_indices) \u003e 0:\n",
                "        correct_predictions = sum(1 for idx in species_indices if y_pred[idx] == encoded_species)\n",
                "        species_accuracy = correct_predictions / len(species_indices)\n",
                "        species_accuracies[species] = species_accuracy\n",
                "        print(f\"Accuracy for {species}: {species_accuracy:.2%}\")\n",
                "    else:\n",
                "        print(f\"No instances of {species} in the test set\")"
            ]
        }
    ]
}
